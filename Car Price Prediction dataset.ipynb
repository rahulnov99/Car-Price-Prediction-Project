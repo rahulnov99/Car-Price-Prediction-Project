{
 "cells": [
  {
   "cell_type": "markdown",
   "metadata": {},
   "source": [
    "# Car Price Prediction dataset"
   ]
  },
  {
   "cell_type": "code",
   "execution_count": 1,
   "metadata": {},
   "outputs": [],
   "source": [
    "import selenium\n",
    "import pandas as pd\n",
    "import time\n",
    "from bs4 import BeautifulSoup"
   ]
  },
  {
   "cell_type": "code",
   "execution_count": 2,
   "metadata": {},
   "outputs": [],
   "source": [
    "from selenium import webdriver"
   ]
  },
  {
   "cell_type": "code",
   "execution_count": 3,
   "metadata": {},
   "outputs": [],
   "source": [
    "from selenium.common.exceptions import StaleElementReferenceException, NoSuchElementException"
   ]
  },
  {
   "cell_type": "code",
   "execution_count": 4,
   "metadata": {},
   "outputs": [],
   "source": [
    "import requests"
   ]
  },
  {
   "cell_type": "code",
   "execution_count": 10,
   "metadata": {},
   "outputs": [],
   "source": [
    "driver=driver = webdriver.Chrome(r'C:\\Users\\dell\\OneDrive\\Desktop\\chromedriver.exe')\n",
    "driver \n",
    "time.sleep(4)\n",
    "\n"
   ]
  },
  {
   "cell_type": "code",
   "execution_count": 11,
   "metadata": {},
   "outputs": [],
   "source": [
    "url = \"https://www.theaa.com/used-cars/supermini-for-sale\"\n",
    "driver.get(url)\n",
    "time.sleep(6)"
   ]
  },
  {
   "cell_type": "code",
   "execution_count": 13,
   "metadata": {},
   "outputs": [],
   "source": [
    "brand = []\n",
    "\n",
    "for i in range(1,500):\n",
    "    name = driver.find_elements_by_xpath(\"//div[@class= 'vl-list']/div/h3\")\n",
    "    for i in name:\n",
    "        brand.append(i.text)\n",
    "driver.find_element_by_xpath(\"//div[@class= 'container']/div/button\").click()\n",
    "time.sleep(2)"
   ]
  },
  {
   "cell_type": "code",
   "execution_count": 14,
   "metadata": {},
   "outputs": [],
   "source": [
    "price = []\n",
    "\n",
    "for i in range(1,500):\n",
    "    pri = driver.find_elements_by_xpath(\"//div[@class= 'vl-list']/div/div/div/div/strong\")\n",
    "    for i in pri:\n",
    "        price.append(i.text.replace('£','').replace(',', ''))\n",
    "driver.find_element_by_xpath(\"//div[@class= 'container']/div/button\").click()\n",
    "time.sleep(2)"
   ]
  },
  {
   "cell_type": "code",
   "execution_count": 15,
   "metadata": {},
   "outputs": [],
   "source": [
    "year = []\n",
    "\n",
    "for i in range(1,500):\n",
    "    yea = driver.find_elements_by_xpath(\"//div[@class= 'vl-list']/div/div/div/ul/li[1]\")\n",
    "    for i in yea:\n",
    "        year.append(i.text)\n",
    "driver.find_element_by_xpath(\"//div[@class= 'container']/div/button[2]\").click()\n",
    "time.sleep(2)"
   ]
  },
  {
   "cell_type": "code",
   "execution_count": 17,
   "metadata": {},
   "outputs": [],
   "source": [
    "fuel = []\n",
    "\n",
    "for i in range(1,500):\n",
    "    fue = driver.find_elements_by_xpath(\"//div[@class= 'vl-list']/div/div/div/ul/li[5]\")\n",
    "    for i in fue:\n",
    "        fuel.append(i.text)\n",
    "driver.find_element_by_xpath(\"//div[@class= 'container']/div/button[2]\").click()\n",
    "time.sleep(2)"
   ]
  },
  {
   "cell_type": "code",
   "execution_count": 18,
   "metadata": {},
   "outputs": [],
   "source": [
    "trans = []\n",
    "\n",
    "for i in range(1,500):\n",
    "    tra = driver.find_elements_by_xpath(\"//div[@class= 'vl-list']/div/div/div/ul/li[7]\")\n",
    "    for i in tra:\n",
    "        trans.append(i.text)\n",
    "driver.find_element_by_xpath(\"//div[@class= 'container']/div/button[2]\").click()\n",
    "time.sleep(2)"
   ]
  },
  {
   "cell_type": "code",
   "execution_count": 19,
   "metadata": {},
   "outputs": [],
   "source": [
    "run = []\n",
    "\n",
    "for i in range(1,500):\n",
    "    runn = driver.find_elements_by_xpath(\"//div[@class= 'vl-list']/div/div/div/ul/li[3]\")\n",
    "    for i in runn:\n",
    "        run.append(i.text.replace('miles','').replace(',', ''))\n",
    "driver.find_element_by_xpath(\"//div[@class= 'container']/div/button[2]\").click()\n",
    "time.sleep(2)"
   ]
  },
  {
   "cell_type": "code",
   "execution_count": 20,
   "metadata": {},
   "outputs": [],
   "source": [
    "loc = []\n",
    "\n",
    "for i in range(1,500):\n",
    "    loca = driver.find_elements_by_xpath(\"//div[@class= 'vl-location']\")\n",
    "    for i in loca:\n",
    "        loc.append(i.text)\n",
    "driver.find_element_by_xpath(\"//div[@class= 'container']/div/button[2]\").click()\n",
    "time.sleep(2)"
   ]
  },
  {
   "cell_type": "code",
   "execution_count": 21,
   "metadata": {},
   "outputs": [
    {
     "name": "stdout",
     "output_type": "stream",
     "text": [
      "9980 9980 9980 9980 9980 9980 9980\n"
     ]
    }
   ],
   "source": [
    "print(len(brand),len(price),len(year),len(fuel),len(trans),len(run),len(loc))"
   ]
  },
  {
   "cell_type": "code",
   "execution_count": 22,
   "metadata": {},
   "outputs": [
    {
     "data": {
      "text/html": [
       "<div>\n",
       "<style scoped>\n",
       "    .dataframe tbody tr th:only-of-type {\n",
       "        vertical-align: middle;\n",
       "    }\n",
       "\n",
       "    .dataframe tbody tr th {\n",
       "        vertical-align: top;\n",
       "    }\n",
       "\n",
       "    .dataframe thead th {\n",
       "        text-align: right;\n",
       "    }\n",
       "</style>\n",
       "<table border=\"1\" class=\"dataframe\">\n",
       "  <thead>\n",
       "    <tr style=\"text-align: right;\">\n",
       "      <th></th>\n",
       "      <th>Brand</th>\n",
       "      <th>Price</th>\n",
       "      <th>Year</th>\n",
       "      <th>Fuel</th>\n",
       "      <th>Transmission</th>\n",
       "      <th>Running KM</th>\n",
       "      <th>Location</th>\n",
       "    </tr>\n",
       "  </thead>\n",
       "  <tbody>\n",
       "    <tr>\n",
       "      <th>0</th>\n",
       "      <td>Mercedes-Benz A Class\\n2L AMG S Plus A45</td>\n",
       "      <td>58525</td>\n",
       "      <td>2021</td>\n",
       "      <td>Diesel</td>\n",
       "      <td>Automatic</td>\n",
       "      <td>11101</td>\n",
       "      <td>London</td>\n",
       "    </tr>\n",
       "    <tr>\n",
       "      <th>1</th>\n",
       "      <td>Mercedes-Benz A Class\\n2L AMG A35</td>\n",
       "      <td>37300</td>\n",
       "      <td>2019</td>\n",
       "      <td>Hybrid</td>\n",
       "      <td>Automatic</td>\n",
       "      <td>30108</td>\n",
       "      <td>London</td>\n",
       "    </tr>\n",
       "    <tr>\n",
       "      <th>2</th>\n",
       "      <td>Toyota Yaris\\n1.6L GR Circuit T</td>\n",
       "      <td>36500</td>\n",
       "      <td>2021</td>\n",
       "      <td>Petrol</td>\n",
       "      <td>Automatic</td>\n",
       "      <td>48445</td>\n",
       "      <td>London</td>\n",
       "    </tr>\n",
       "    <tr>\n",
       "      <th>3</th>\n",
       "      <td>Toyota Yaris\\n1.6L GR Circuit T</td>\n",
       "      <td>36300</td>\n",
       "      <td>2021</td>\n",
       "      <td>Petrol</td>\n",
       "      <td>Manual</td>\n",
       "      <td>10680</td>\n",
       "      <td>London</td>\n",
       "    </tr>\n",
       "    <tr>\n",
       "      <th>4</th>\n",
       "      <td>Toyota Yaris\\n1.6L GR Circuit T</td>\n",
       "      <td>36150</td>\n",
       "      <td>2021</td>\n",
       "      <td>Petrol</td>\n",
       "      <td>Automatic</td>\n",
       "      <td>10810</td>\n",
       "      <td>London</td>\n",
       "    </tr>\n",
       "    <tr>\n",
       "      <th>...</th>\n",
       "      <td>...</td>\n",
       "      <td>...</td>\n",
       "      <td>...</td>\n",
       "      <td>...</td>\n",
       "      <td>...</td>\n",
       "      <td>...</td>\n",
       "      <td>...</td>\n",
       "    </tr>\n",
       "    <tr>\n",
       "      <th>9975</th>\n",
       "      <td>Mercedes-Benz A Class\\n2L AMG Line A200d</td>\n",
       "      <td>27525</td>\n",
       "      <td>2019</td>\n",
       "      <td>Petrol</td>\n",
       "      <td>Automatic</td>\n",
       "      <td>4912</td>\n",
       "      <td>London</td>\n",
       "    </tr>\n",
       "    <tr>\n",
       "      <th>9976</th>\n",
       "      <td>Mercedes-Benz A Class\\n1.5L AMG Line A180d</td>\n",
       "      <td>27350</td>\n",
       "      <td>2019</td>\n",
       "      <td>Petrol</td>\n",
       "      <td>Manual</td>\n",
       "      <td>12801</td>\n",
       "      <td>London</td>\n",
       "    </tr>\n",
       "    <tr>\n",
       "      <th>9977</th>\n",
       "      <td>Mercedes-Benz A Class\\n1.3L AMG Line A200</td>\n",
       "      <td>27250</td>\n",
       "      <td>2019</td>\n",
       "      <td>Petrol</td>\n",
       "      <td>Automatic</td>\n",
       "      <td>30440</td>\n",
       "      <td>London</td>\n",
       "    </tr>\n",
       "    <tr>\n",
       "      <th>9978</th>\n",
       "      <td>Mercedes-Benz A Class\\n1.3L AMG Line A200</td>\n",
       "      <td>26775</td>\n",
       "      <td>2019</td>\n",
       "      <td>Petrol</td>\n",
       "      <td>Automatic</td>\n",
       "      <td>26198</td>\n",
       "      <td>London</td>\n",
       "    </tr>\n",
       "    <tr>\n",
       "      <th>9979</th>\n",
       "      <td>Mercedes-Benz A Class\\n1.3L AMG Line A200</td>\n",
       "      <td>26375</td>\n",
       "      <td>2019</td>\n",
       "      <td>Electric</td>\n",
       "      <td>Automatic</td>\n",
       "      <td>22554</td>\n",
       "      <td>London</td>\n",
       "    </tr>\n",
       "  </tbody>\n",
       "</table>\n",
       "<p>9980 rows × 7 columns</p>\n",
       "</div>"
      ],
      "text/plain": [
       "                                           Brand  Price  Year      Fuel  \\\n",
       "0       Mercedes-Benz A Class\\n2L AMG S Plus A45  58525  2021    Diesel   \n",
       "1              Mercedes-Benz A Class\\n2L AMG A35  37300  2019    Hybrid   \n",
       "2                Toyota Yaris\\n1.6L GR Circuit T  36500  2021    Petrol   \n",
       "3                Toyota Yaris\\n1.6L GR Circuit T  36300  2021    Petrol   \n",
       "4                Toyota Yaris\\n1.6L GR Circuit T  36150  2021    Petrol   \n",
       "...                                          ...    ...   ...       ...   \n",
       "9975    Mercedes-Benz A Class\\n2L AMG Line A200d  27525  2019    Petrol   \n",
       "9976  Mercedes-Benz A Class\\n1.5L AMG Line A180d  27350  2019    Petrol   \n",
       "9977   Mercedes-Benz A Class\\n1.3L AMG Line A200  27250  2019    Petrol   \n",
       "9978   Mercedes-Benz A Class\\n1.3L AMG Line A200  26775  2019    Petrol   \n",
       "9979   Mercedes-Benz A Class\\n1.3L AMG Line A200  26375  2019  Electric   \n",
       "\n",
       "     Transmission Running KM Location  \n",
       "0       Automatic     11101    London  \n",
       "1       Automatic     30108    London  \n",
       "2       Automatic     48445    London  \n",
       "3          Manual     10680    London  \n",
       "4       Automatic     10810    London  \n",
       "...           ...        ...      ...  \n",
       "9975    Automatic      4912    London  \n",
       "9976       Manual     12801    London  \n",
       "9977    Automatic     30440    London  \n",
       "9978    Automatic     26198    London  \n",
       "9979    Automatic     22554    London  \n",
       "\n",
       "[9980 rows x 7 columns]"
      ]
     },
     "execution_count": 22,
     "metadata": {},
     "output_type": "execute_result"
    }
   ],
   "source": [
    "Usedcar = pd.DataFrame({'Brand': brand,'Price':price,'Year':year,'Fuel':fuel,'Transmission':trans,'Running KM':run,'Location':loc})\n",
    "Usedcar"
   ]
  },
  {
   "cell_type": "code",
   "execution_count": 23,
   "metadata": {},
   "outputs": [],
   "source": [
    "Usedcar.to_excel(\"UsedCar.xlsx\")"
   ]
  },
  {
   "cell_type": "code",
   "execution_count": null,
   "metadata": {},
   "outputs": [],
   "source": []
  }
 ],
 "metadata": {
  "kernelspec": {
   "display_name": "Python 3",
   "language": "python",
   "name": "python3"
  },
  "language_info": {
   "codemirror_mode": {
    "name": "ipython",
    "version": 3
   },
   "file_extension": ".py",
   "mimetype": "text/x-python",
   "name": "python",
   "nbconvert_exporter": "python",
   "pygments_lexer": "ipython3",
   "version": "3.8.5"
  }
 },
 "nbformat": 4,
 "nbformat_minor": 4
}
